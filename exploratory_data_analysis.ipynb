{
 "metadata": {
  "language_info": {
   "codemirror_mode": {
    "name": "ipython",
    "version": 3
   },
   "file_extension": ".py",
   "mimetype": "text/x-python",
   "name": "python",
   "nbconvert_exporter": "python",
   "pygments_lexer": "ipython3",
   "version": "3.8.2-final"
  },
  "orig_nbformat": 2,
  "kernelspec": {
   "name": "python_defaultSpec_1600099162023",
   "display_name": "Python 3.8.2 64-bit ('venv': venv)"
  }
 },
 "nbformat": 4,
 "nbformat_minor": 2,
 "cells": [
  {
   "cell_type": "code",
   "execution_count": 1,
   "metadata": {},
   "outputs": [],
   "source": [
    "import pandas as pd\n",
    "import numpy as np\n",
    "import matplotlib"
   ]
  },
  {
   "cell_type": "code",
   "execution_count": 2,
   "metadata": {
    "tags": []
   },
   "outputs": [],
   "source": [
    "### Read the data (this will not be graded)\n",
    "\n",
    "#Read from CSV\n",
    "df = pd.read_csv(\"data.csv\",index_col='Day',parse_dates=['Day'],infer_datetime_format=True)\n",
    "#df['Day'] = pd.to_datetime(df['Day']) \n",
    "#display(df)\n"
   ]
  },
  {
   "cell_type": "code",
   "execution_count": null,
   "metadata": {},
   "outputs": [],
   "source": [
    "#1\n",
    "ws_std = np.std(df['Maximum windspeed (mph)'])\n",
    "#print('ws_std: '+str(round(ws_std,2)))"
   ]
  },
  {
   "cell_type": "code",
   "execution_count": null,
   "metadata": {},
   "outputs": [],
   "source": [
    "#2\n",
    "p_range = np.percentile(df['Average temperature (°F)'],75) - np.percentile(df['Average temperature (°F)'],50)\n",
    "#print('p_range: '+str(round(p_range,2)))"
   ]
  },
  {
   "cell_type": "code",
   "execution_count": null,
   "metadata": {},
   "outputs": [],
   "source": [
    "#3\n",
    "corr = np.corrcoef(df['Average dewpoint (°F)'],df['Average temperature (°F)'])\n",
    "#print('corr: ' +str(round(corr[0,1],2)))"
   ]
  },
  {
   "cell_type": "code",
   "execution_count": 10,
   "metadata": {},
   "outputs": [
    {
     "output_type": "display_data",
     "data": {
      "text/plain": "            Average temperature (°F)  Average humidity (%)  \\\nDay                                                          \n2013-01-22                      43.1                     9   \n2013-01-23                      47.2                     9   \n2014-01-21                      41.4                     9   \n\n            Average dewpoint (°F)  Average barometer (in)  \\\nDay                                                         \n2013-01-22                  -11.9                    30.0   \n2013-01-23                   -8.9                    30.0   \n2014-01-21                  -13.9                    30.1   \n\n            Average windspeed (mph)  Average gustspeed (mph)  \\\nDay                                                            \n2013-01-22                     16.8                     24.0   \n2013-01-23                     10.5                     15.3   \n2014-01-21                     17.5                     24.8   \n\n            Average direction (°deg)  Rainfall for month (in)  \\\nDay                                                             \n2013-01-22                       245                     0.00   \n2013-01-23                       253                     0.00   \n2014-01-21                       246                     0.03   \n\n            Rainfall for year (in)  Maximum rain per minute   \\\nDay                                                            \n2013-01-22                    0.00                       0.0   \n2013-01-23                    0.00                       0.0   \n2014-01-21                    0.03                       0.0   \n\n            Maximum temperature (°F)  Minimum temperature (°F)  \\\nDay                                                              \n2013-01-22                      50.9                      36.6   \n2013-01-23                      56.7                      42.1   \n2014-01-21                      49.4                      19.9   \n\n            Maximum humidity (%)  Minimum humidity (%)  Maximum pressure   \\\nDay                                                                         \n2013-01-22                    14                     6             30.100   \n2013-01-23                    15                     6             30.074   \n2014-01-21                    75                     5             30.248   \n\n            Minimum pressure   Maximum windspeed (mph)  \\\nDay                                                      \n2013-01-22             29.931                     35.7   \n2013-01-23             29.906                     26.5   \n2014-01-21             29.916                     33.4   \n\n            Maximum gust speed (mph)  Maximum heat index (°F)  \nDay                                                            \n2013-01-22                      46.0                     50.9  \n2013-01-23                      35.7                     56.7  \n2014-01-21                      49.5                     49.4  ",
      "text/html": "<div>\n<style scoped>\n    .dataframe tbody tr th:only-of-type {\n        vertical-align: middle;\n    }\n\n    .dataframe tbody tr th {\n        vertical-align: top;\n    }\n\n    .dataframe thead th {\n        text-align: right;\n    }\n</style>\n<table border=\"1\" class=\"dataframe\">\n  <thead>\n    <tr style=\"text-align: right;\">\n      <th></th>\n      <th>Average temperature (°F)</th>\n      <th>Average humidity (%)</th>\n      <th>Average dewpoint (°F)</th>\n      <th>Average barometer (in)</th>\n      <th>Average windspeed (mph)</th>\n      <th>Average gustspeed (mph)</th>\n      <th>Average direction (°deg)</th>\n      <th>Rainfall for month (in)</th>\n      <th>Rainfall for year (in)</th>\n      <th>Maximum rain per minute</th>\n      <th>Maximum temperature (°F)</th>\n      <th>Minimum temperature (°F)</th>\n      <th>Maximum humidity (%)</th>\n      <th>Minimum humidity (%)</th>\n      <th>Maximum pressure</th>\n      <th>Minimum pressure</th>\n      <th>Maximum windspeed (mph)</th>\n      <th>Maximum gust speed (mph)</th>\n      <th>Maximum heat index (°F)</th>\n    </tr>\n    <tr>\n      <th>Day</th>\n      <th></th>\n      <th></th>\n      <th></th>\n      <th></th>\n      <th></th>\n      <th></th>\n      <th></th>\n      <th></th>\n      <th></th>\n      <th></th>\n      <th></th>\n      <th></th>\n      <th></th>\n      <th></th>\n      <th></th>\n      <th></th>\n      <th></th>\n      <th></th>\n      <th></th>\n    </tr>\n  </thead>\n  <tbody>\n    <tr>\n      <th>2013-01-22</th>\n      <td>43.1</td>\n      <td>9</td>\n      <td>-11.9</td>\n      <td>30.0</td>\n      <td>16.8</td>\n      <td>24.0</td>\n      <td>245</td>\n      <td>0.00</td>\n      <td>0.00</td>\n      <td>0.0</td>\n      <td>50.9</td>\n      <td>36.6</td>\n      <td>14</td>\n      <td>6</td>\n      <td>30.100</td>\n      <td>29.931</td>\n      <td>35.7</td>\n      <td>46.0</td>\n      <td>50.9</td>\n    </tr>\n    <tr>\n      <th>2013-01-23</th>\n      <td>47.2</td>\n      <td>9</td>\n      <td>-8.9</td>\n      <td>30.0</td>\n      <td>10.5</td>\n      <td>15.3</td>\n      <td>253</td>\n      <td>0.00</td>\n      <td>0.00</td>\n      <td>0.0</td>\n      <td>56.7</td>\n      <td>42.1</td>\n      <td>15</td>\n      <td>6</td>\n      <td>30.074</td>\n      <td>29.906</td>\n      <td>26.5</td>\n      <td>35.7</td>\n      <td>56.7</td>\n    </tr>\n    <tr>\n      <th>2014-01-21</th>\n      <td>41.4</td>\n      <td>9</td>\n      <td>-13.9</td>\n      <td>30.1</td>\n      <td>17.5</td>\n      <td>24.8</td>\n      <td>246</td>\n      <td>0.03</td>\n      <td>0.03</td>\n      <td>0.0</td>\n      <td>49.4</td>\n      <td>19.9</td>\n      <td>75</td>\n      <td>5</td>\n      <td>30.248</td>\n      <td>29.916</td>\n      <td>33.4</td>\n      <td>49.5</td>\n      <td>49.4</td>\n    </tr>\n  </tbody>\n</table>\n</div>"
     },
     "metadata": {}
    }
   ],
   "source": [
    "#4\n",
    "display(df[df[\"Average humidity (%)\"]==df[\"Average humidity (%)\"].min()])\n",
    "dew_month =1\n",
    "#print('dew_month: ' +str(dew_month))"
   ]
  },
  {
   "cell_type": "code",
   "execution_count": null,
   "metadata": {},
   "outputs": [],
   "source": [
    "#5\n",
    "df_11 = df.groupby(df.index.month).median()\n",
    "\n",
    "# gust_speed = df_11.aggregate({\"Maximum gust speed (mph)\":np.median})\n",
    "# display(gust_speed[gust_speed[\"Maximum gust speed (mph)\"]==gust_speed[\"Maximum gust speed (mph)\"].max()])\n",
    "display(df_11)\n",
    "max_gust_month = 2\n",
    "max_gust_value = 39.00\n",
    "#print('max_gust_month: '+str(max_gust_month))\n",
    "#print('max_gust_value: ' +str(max_gust_value))"
   ]
  },
  {
   "cell_type": "code",
   "execution_count": null,
   "metadata": {},
   "outputs": [],
   "source": [
    "#6\n",
    "range_df = df[df.index.isin(pd.date_range(\"2010-03-01\", \"2012-05-31\"))]\n",
    "print(range_df)\n",
    "\n",
    "avg_temp = np.mean(range_df['Average temperature (°F)'])\n",
    "print('avg_temp: '+str(round(avg_temp,2)))\n"
   ]
  },
  {
   "cell_type": "code",
   "execution_count": null,
   "metadata": {},
   "outputs": [],
   "source": [
    "#7\n",
    "df_3 = df['2010-12-01':'2012-12-31']\n",
    "range_temp = np.percentile(df_3['Average temperature (°F)'],[0,100])\n",
    "temp_range = round(range_temp[1]-range_temp[0],2)\n",
    "print('temp_range: '+str(round(temp_range,2)))\n",
    "\n"
   ]
  },
  {
   "cell_type": "code",
   "execution_count": null,
   "metadata": {},
   "outputs": [],
   "source": [
    "#8\n",
    "df['diff_pressure'] = df['Maximum pressure '].astype(int) - df['Minimum pressure '].astype(int)\n",
    "df[df['diff_pressure']==df['diff_pressure'].max()]\n",
    "max_p_range_day = '2018-03-23'\n",
    "#print('max_p_range_day: '+str(max_p_range_day))\n",
    "\n"
   ]
  },
  {
   "cell_type": "code",
   "execution_count": null,
   "metadata": {},
   "outputs": [],
   "source": [
    "#9\n",
    "median = np.median(df['Average barometer (in)'])\n",
    "#print(df.loc[df['Average barometer (in)']==median])\n",
    "median_b_days = 534\n",
    "#print('median_b_days: '+str(round(median_b_days,2)))\n",
    "\n"
   ]
  },
  {
   "cell_type": "code",
   "execution_count": null,
   "metadata": {},
   "outputs": [],
   "source": [
    "#10\n",
    "temp_std = np.std(df['Average temperature (°F)'])\n",
    "#print(df[(df['Average temperature (°F)']>(temp_std-1)) & (df['Average temperature (°F)']<(temp_std+1)) ])\n",
    "num_days_std = 29\n",
    "print('num_days_std: '+str(round(num_days_std,2)))"
   ]
  }
 ]
}