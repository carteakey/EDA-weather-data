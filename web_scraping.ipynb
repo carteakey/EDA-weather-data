{
 "metadata": {
  "language_info": {
   "codemirror_mode": {
    "name": "ipython",
    "version": 3
   },
   "file_extension": ".py",
   "mimetype": "text/x-python",
   "name": "python",
   "nbconvert_exporter": "python",
   "pygments_lexer": "ipython3",
   "version": "3.8.5-final"
  },
  "orig_nbformat": 2,
  "kernelspec": {
   "name": "Python 3.8.5 64-bit",
   "display_name": "Python 3.8.5 64-bit",
   "metadata": {
    "interpreter": {
     "hash": "31f2aee4e71d21fbe5cf8b01ff0e069b9275f58929596ceb00d14d90e3e16cd6"
    }
   }
  }
 },
 "nbformat": 4,
 "nbformat_minor": 2,
 "cells": [
  {
   "source": [
    "<h1 align=center><font size = 5>Web Scraping weather data</font></h1>"
   ],
   "cell_type": "markdown",
   "metadata": {}
  },
  {
   "source": [
    "This script pulls a decade of weather data from http://www.estesparkweather.net/archive_reports.php and nicely cleans up and collects it into a dataframe\n"
   ],
   "cell_type": "markdown",
   "metadata": {}
  },
  {
   "source": [
    "Lets import all required libraries"
   ],
   "cell_type": "markdown",
   "metadata": {}
  },
  {
   "cell_type": "code",
   "execution_count": 4,
   "metadata": {},
   "outputs": [],
   "source": [
    "import pickle\n",
    "import bs4\n",
    "from bs4 import BeautifulSoup\n",
    "import csv\n",
    "import requests\n",
    "import time\n",
    "import pandas as pd\n",
    "import urllib\n",
    "import re\n",
    "import pickle\n",
    "from datetime import datetime\n",
    "from tqdm import tqdm"
   ]
  },
  {
   "source": [
    "Define the range of dates to pull data from through dynamic URL"
   ],
   "cell_type": "markdown",
   "metadata": {}
  },
  {
   "cell_type": "code",
   "execution_count": 5,
   "metadata": {},
   "outputs": [],
   "source": [
    "range_date = pd.date_range(start = '1/1/2009',end = '11/01/2018',freq = 'M')\n",
    "dates = [str(i)[:4] + str(i)[5:7] for i in range_date]\n",
    "df_list = []\n",
    "index = []"
   ]
  },
  {
   "cell_type": "code",
   "execution_count": 6,
   "metadata": {},
   "outputs": [
    {
     "output_type": "stream",
     "name": "stderr",
     "text": [
      "100%|██████████| 118/118 [04:01<00:00,  2.04s/it]\n"
     ]
    }
   ],
   "source": [
    "for k in tqdm(range(len(dates))):\n",
    "    \n",
    "\t\turl = \"http://www.estesparkweather.net/archive_reports.php?date=\"+ dates[k]\n",
    "\t\t#Our loop will run for the number of elements in dates\n",
    "\t\tpage = requests.get(url)\n",
    "\t\tsoup = BeautifulSoup(page.content, 'html.parser')\n",
    "\t\ttable = soup.find_all('table')\n",
    "\n",
    "\t\tparsed_data = [row.text.splitlines() for row in table]\n",
    "\t\tparsed_data = parsed_data[:-9] \n",
    "\n",
    "\t\tfor l in range(len(parsed_data)):\n",
    "\t\t    parsed_data[l] = parsed_data[l][2:len(parsed_data[l]):3]\n",
    "\t\t    \n",
    "\t\tfor i in range(len(parsed_data)):\n",
    "\t\t    c = ['.'.join(re.findall(\"\\d+\",str(parsed_data[i][j].split()[:5]))) for j in range(len(parsed_data[i]))]\n",
    "\t\t    df_list.append(c)\n",
    "\t\t    index.append(dates[k] + c[0])\n",
    "\t\t    f_index = [index[i] for i in range(len(index)) if len(index[i]) > 6]\n",
    "\t\t    data = [df_list[i][1:] for i in range(len(df_list)) if len(df_list[i][1:]) == 19]\n",
    "\t\t    final_index = [datetime.strptime(str(f_index[i]), '%Y%m%d').strftime('%Y-%m-%d') for i in range(len(f_index))]\n"
   ]
  },
  {
   "source": [
    "Collect into a panda dataframe  "
   ],
   "cell_type": "markdown",
   "metadata": {}
  },
  {
   "cell_type": "code",
   "execution_count": 7,
   "metadata": {},
   "outputs": [
    {
     "output_type": "display_data",
     "data": {
      "text/plain": "            Average temperature (°F)  Average humidity (%)  \\\n2009-01-01                      37.8                  35.0   \n2009-01-02                      43.2                  32.0   \n2009-01-03                      25.7                  60.0   \n2009-01-04                       9.3                  67.0   \n2009-01-05                      23.5                  30.0   \n...                              ...                   ...   \n2018-10-27                      53.3                  37.0   \n2018-10-28                      49.4                  48.0   \n2018-10-29                      56.1                  21.0   \n2018-10-30                      31.5                  87.0   \n2018-10-31                      30.8                  75.0   \n\n            Average dewpoint (°F)  Average barometer (in)  \\\n2009-01-01                   12.7                    29.7   \n2009-01-02                   14.7                    29.5   \n2009-01-03                   12.7                    29.7   \n2009-01-04                    0.1                    30.4   \n2009-01-05                    5.3                    29.9   \n...                           ...                     ...   \n2018-10-27                   26.6                    29.8   \n2018-10-28                   25.2                    29.9   \n2018-10-29                   16.0                    29.6   \n2018-10-30                   28.2                    29.9   \n2018-10-31                   22.8                    30.0   \n\n            Average windspeed (mph)  Average gustspeed (mph)  \\\n2009-01-01                     26.4                     36.8   \n2009-01-02                     12.8                     18.0   \n2009-01-03                      8.3                     12.2   \n2009-01-04                      2.9                      4.5   \n2009-01-05                     16.7                     23.1   \n...                             ...                      ...   \n2018-10-27                     10.3                     14.8   \n2018-10-28                      5.3                      7.6   \n2018-10-29                      8.5                     12.4   \n2018-10-30                      1.9                      3.1   \n2018-10-31                      2.1                      3.3   \n\n            Average direction (°deg)  Rainfall for month (in)  \\\n2009-01-01                     274.0                     0.00   \n2009-01-02                     240.0                     0.00   \n2009-01-03                     290.0                     0.00   \n2009-01-04                      47.0                     0.00   \n2009-01-05                     265.0                     0.00   \n...                              ...                      ...   \n2018-10-27                     282.0                     0.85   \n2018-10-28                     282.0                     0.85   \n2018-10-29                     282.0                     0.86   \n2018-10-30                     275.0                     0.99   \n2018-10-31                     262.0                     1.25   \n\n            Rainfall for year (in)  Maximum rain per minute  \\\n2009-01-01                    0.00                     0.00   \n2009-01-02                    0.00                     0.00   \n2009-01-03                    0.00                     0.00   \n2009-01-04                    0.00                     0.00   \n2009-01-05                    0.00                     0.00   \n...                            ...                      ...   \n2018-10-27                    6.86                     0.00   \n2018-10-28                    6.86                     0.00   \n2018-10-29                    6.87                     0.01   \n2018-10-30                    7.00                     0.01   \n2018-10-31                    7.26                     0.01   \n\n            Maximum temperature (°F)  Minimum temperature (°F)  \\\n2009-01-01                      40.1                      34.5   \n2009-01-02                      52.8                      37.5   \n2009-01-03                      41.2                       6.7   \n2009-01-04                      19.4                       0.0   \n2009-01-05                      30.3                      15.1   \n...                              ...                       ...   \n2018-10-27                      64.5                      38.3   \n2018-10-28                      67.3                      30.9   \n2018-10-29                      66.8                      40.3   \n2018-10-30                      40.3                      27.8   \n2018-10-31                      40.2                      22.9   \n\n            Maximum humidity (%)  Minimum humidity (%)  Maximum pressure  \\\n2009-01-01                  44.0                  27.0            29.762   \n2009-01-02                  43.0                  16.0            29.669   \n2009-01-03                  89.0                  35.0            30.232   \n2009-01-04                  79.0                  35.0            30.566   \n2009-01-05                  56.0                  13.0            30.233   \n...                          ...                   ...               ...   \n2018-10-27                  78.0                  24.0            29.935   \n2018-10-28                  90.0                  19.0            30.040   \n2018-10-29                  59.0                  13.0            29.731   \n2018-10-30                  92.0                  60.0            30.121   \n2018-10-31                  92.0                  22.0            30.221   \n\n            Minimum pressure  Maximum windspeed (mph)  \\\n2009-01-01            29.596                     41.4   \n2009-01-02            29.268                     35.7   \n2009-01-03            29.260                     25.3   \n2009-01-04            30.227                     12.7   \n2009-01-05            29.568                     38.0   \n...                      ...                      ...   \n2018-10-27            29.650                     28.8   \n2018-10-28            29.663                     18.4   \n2018-10-29            29.402                     26.5   \n2018-10-30            29.623                      9.2   \n2018-10-31            29.834                     16.1   \n\n            Maximum gust speed (mph)  Maximum heat index (°F)  \n2009-01-01                      59.0                     40.1  \n2009-01-02                      51.0                     52.8  \n2009-01-03                      38.0                     41.2  \n2009-01-04                      20.0                     32.0  \n2009-01-05                      53.0                     32.0  \n...                              ...                      ...  \n2018-10-27                      38.0                     64.5  \n2018-10-28                      25.3                     67.3  \n2018-10-29                      39.1                     66.8  \n2018-10-30                      16.1                     40.2  \n2018-10-31                      26.5                     40.2  \n\n[3283 rows x 19 columns]",
      "text/html": "<div>\n<style scoped>\n    .dataframe tbody tr th:only-of-type {\n        vertical-align: middle;\n    }\n\n    .dataframe tbody tr th {\n        vertical-align: top;\n    }\n\n    .dataframe thead th {\n        text-align: right;\n    }\n</style>\n<table border=\"1\" class=\"dataframe\">\n  <thead>\n    <tr style=\"text-align: right;\">\n      <th></th>\n      <th>Average temperature (°F)</th>\n      <th>Average humidity (%)</th>\n      <th>Average dewpoint (°F)</th>\n      <th>Average barometer (in)</th>\n      <th>Average windspeed (mph)</th>\n      <th>Average gustspeed (mph)</th>\n      <th>Average direction (°deg)</th>\n      <th>Rainfall for month (in)</th>\n      <th>Rainfall for year (in)</th>\n      <th>Maximum rain per minute</th>\n      <th>Maximum temperature (°F)</th>\n      <th>Minimum temperature (°F)</th>\n      <th>Maximum humidity (%)</th>\n      <th>Minimum humidity (%)</th>\n      <th>Maximum pressure</th>\n      <th>Minimum pressure</th>\n      <th>Maximum windspeed (mph)</th>\n      <th>Maximum gust speed (mph)</th>\n      <th>Maximum heat index (°F)</th>\n    </tr>\n  </thead>\n  <tbody>\n    <tr>\n      <th>2009-01-01</th>\n      <td>37.8</td>\n      <td>35.0</td>\n      <td>12.7</td>\n      <td>29.7</td>\n      <td>26.4</td>\n      <td>36.8</td>\n      <td>274.0</td>\n      <td>0.00</td>\n      <td>0.00</td>\n      <td>0.00</td>\n      <td>40.1</td>\n      <td>34.5</td>\n      <td>44.0</td>\n      <td>27.0</td>\n      <td>29.762</td>\n      <td>29.596</td>\n      <td>41.4</td>\n      <td>59.0</td>\n      <td>40.1</td>\n    </tr>\n    <tr>\n      <th>2009-01-02</th>\n      <td>43.2</td>\n      <td>32.0</td>\n      <td>14.7</td>\n      <td>29.5</td>\n      <td>12.8</td>\n      <td>18.0</td>\n      <td>240.0</td>\n      <td>0.00</td>\n      <td>0.00</td>\n      <td>0.00</td>\n      <td>52.8</td>\n      <td>37.5</td>\n      <td>43.0</td>\n      <td>16.0</td>\n      <td>29.669</td>\n      <td>29.268</td>\n      <td>35.7</td>\n      <td>51.0</td>\n      <td>52.8</td>\n    </tr>\n    <tr>\n      <th>2009-01-03</th>\n      <td>25.7</td>\n      <td>60.0</td>\n      <td>12.7</td>\n      <td>29.7</td>\n      <td>8.3</td>\n      <td>12.2</td>\n      <td>290.0</td>\n      <td>0.00</td>\n      <td>0.00</td>\n      <td>0.00</td>\n      <td>41.2</td>\n      <td>6.7</td>\n      <td>89.0</td>\n      <td>35.0</td>\n      <td>30.232</td>\n      <td>29.260</td>\n      <td>25.3</td>\n      <td>38.0</td>\n      <td>41.2</td>\n    </tr>\n    <tr>\n      <th>2009-01-04</th>\n      <td>9.3</td>\n      <td>67.0</td>\n      <td>0.1</td>\n      <td>30.4</td>\n      <td>2.9</td>\n      <td>4.5</td>\n      <td>47.0</td>\n      <td>0.00</td>\n      <td>0.00</td>\n      <td>0.00</td>\n      <td>19.4</td>\n      <td>0.0</td>\n      <td>79.0</td>\n      <td>35.0</td>\n      <td>30.566</td>\n      <td>30.227</td>\n      <td>12.7</td>\n      <td>20.0</td>\n      <td>32.0</td>\n    </tr>\n    <tr>\n      <th>2009-01-05</th>\n      <td>23.5</td>\n      <td>30.0</td>\n      <td>5.3</td>\n      <td>29.9</td>\n      <td>16.7</td>\n      <td>23.1</td>\n      <td>265.0</td>\n      <td>0.00</td>\n      <td>0.00</td>\n      <td>0.00</td>\n      <td>30.3</td>\n      <td>15.1</td>\n      <td>56.0</td>\n      <td>13.0</td>\n      <td>30.233</td>\n      <td>29.568</td>\n      <td>38.0</td>\n      <td>53.0</td>\n      <td>32.0</td>\n    </tr>\n    <tr>\n      <th>...</th>\n      <td>...</td>\n      <td>...</td>\n      <td>...</td>\n      <td>...</td>\n      <td>...</td>\n      <td>...</td>\n      <td>...</td>\n      <td>...</td>\n      <td>...</td>\n      <td>...</td>\n      <td>...</td>\n      <td>...</td>\n      <td>...</td>\n      <td>...</td>\n      <td>...</td>\n      <td>...</td>\n      <td>...</td>\n      <td>...</td>\n      <td>...</td>\n    </tr>\n    <tr>\n      <th>2018-10-27</th>\n      <td>53.3</td>\n      <td>37.0</td>\n      <td>26.6</td>\n      <td>29.8</td>\n      <td>10.3</td>\n      <td>14.8</td>\n      <td>282.0</td>\n      <td>0.85</td>\n      <td>6.86</td>\n      <td>0.00</td>\n      <td>64.5</td>\n      <td>38.3</td>\n      <td>78.0</td>\n      <td>24.0</td>\n      <td>29.935</td>\n      <td>29.650</td>\n      <td>28.8</td>\n      <td>38.0</td>\n      <td>64.5</td>\n    </tr>\n    <tr>\n      <th>2018-10-28</th>\n      <td>49.4</td>\n      <td>48.0</td>\n      <td>25.2</td>\n      <td>29.9</td>\n      <td>5.3</td>\n      <td>7.6</td>\n      <td>282.0</td>\n      <td>0.85</td>\n      <td>6.86</td>\n      <td>0.00</td>\n      <td>67.3</td>\n      <td>30.9</td>\n      <td>90.0</td>\n      <td>19.0</td>\n      <td>30.040</td>\n      <td>29.663</td>\n      <td>18.4</td>\n      <td>25.3</td>\n      <td>67.3</td>\n    </tr>\n    <tr>\n      <th>2018-10-29</th>\n      <td>56.1</td>\n      <td>21.0</td>\n      <td>16.0</td>\n      <td>29.6</td>\n      <td>8.5</td>\n      <td>12.4</td>\n      <td>282.0</td>\n      <td>0.86</td>\n      <td>6.87</td>\n      <td>0.01</td>\n      <td>66.8</td>\n      <td>40.3</td>\n      <td>59.0</td>\n      <td>13.0</td>\n      <td>29.731</td>\n      <td>29.402</td>\n      <td>26.5</td>\n      <td>39.1</td>\n      <td>66.8</td>\n    </tr>\n    <tr>\n      <th>2018-10-30</th>\n      <td>31.5</td>\n      <td>87.0</td>\n      <td>28.2</td>\n      <td>29.9</td>\n      <td>1.9</td>\n      <td>3.1</td>\n      <td>275.0</td>\n      <td>0.99</td>\n      <td>7.00</td>\n      <td>0.01</td>\n      <td>40.3</td>\n      <td>27.8</td>\n      <td>92.0</td>\n      <td>60.0</td>\n      <td>30.121</td>\n      <td>29.623</td>\n      <td>9.2</td>\n      <td>16.1</td>\n      <td>40.2</td>\n    </tr>\n    <tr>\n      <th>2018-10-31</th>\n      <td>30.8</td>\n      <td>75.0</td>\n      <td>22.8</td>\n      <td>30.0</td>\n      <td>2.1</td>\n      <td>3.3</td>\n      <td>262.0</td>\n      <td>1.25</td>\n      <td>7.26</td>\n      <td>0.01</td>\n      <td>40.2</td>\n      <td>22.9</td>\n      <td>92.0</td>\n      <td>22.0</td>\n      <td>30.221</td>\n      <td>29.834</td>\n      <td>16.1</td>\n      <td>26.5</td>\n      <td>40.2</td>\n    </tr>\n  </tbody>\n</table>\n<p>3283 rows × 19 columns</p>\n</div>"
     },
     "metadata": {}
    }
   ],
   "source": [
    "col = \t\t['Average temperature (°F)', 'Average humidity (%)',\n",
    "            'Average dewpoint (°F)', 'Average barometer (in)',\n",
    "            'Average windspeed (mph)', 'Average gustspeed (mph)',\n",
    "            'Average direction (°deg)', 'Rainfall for month (in)',\n",
    "            'Rainfall for year (in)', 'Maximum rain per minute',\n",
    "            'Maximum temperature (°F)', 'Minimum temperature (°F)',\n",
    "            'Maximum humidity (%)', 'Minimum humidity (%)', 'Maximum pressure',\n",
    "            'Minimum pressure', 'Maximum windspeed (mph)',\n",
    "            'Maximum gust speed (mph)', 'Maximum heat index (°F)']\n",
    "            \n",
    "final_df = pd.DataFrame(data, columns = col, index = final_index)\n",
    "final_df = final_df.astype(float)\n",
    "display(final_df)\n"
   ]
  }
 ]
}